{
 "cells": [
  {
   "cell_type": "code",
   "execution_count": 5,
   "id": "634a617c",
   "metadata": {},
   "outputs": [
    {
     "name": "stdout",
     "output_type": "stream",
     "text": [
      "Enter integer (>2): 3\n",
      "-6\n"
     ]
    }
   ],
   "source": [
    "import random\n",
    "import numpy as np\n",
    "\n",
    "\n",
    "def matrix(num):\n",
    "    \"\"\"Генерация матрицы nxn с 1 и -1 (списки).\"\"\"\n",
    "\n",
    "    data = np.ones((num, num), dtype=np.int32)\n",
    "\n",
    "    for i in range(num):\n",
    "        for j in range(num):\n",
    "            data[i][j] = random.choice((1, -1))\n",
    "\n",
    "    return data\n",
    "\n",
    "\n",
    "def add_row(data):\n",
    "    \"\"\"Возвращает сумму попарных произведений всех, рядом стоящих элементов строк, квадратной матрицы.\"\"\"\n",
    "\n",
    "    summa = 0\n",
    "\n",
    "    num = len(data)\n",
    "    for i in range(num):  # Пробегает по всем строкам\n",
    "\n",
    "        # Концы строк, умножение на первый\n",
    "        summa += data[i][num - 1] * data[i][0]\n",
    "\n",
    "        # Не концы строк, вложенный цикл\n",
    "        for j in range(num - 1):\n",
    "            # Умножение на правый соседний\n",
    "            summa += data[i][j] * data[i][j + 1]\n",
    "\n",
    "    return summa\n",
    "\n",
    "\n",
    "def add_neib(data):\n",
    "    \"\"\"Возвращает сумму попарных произведений всех, рядом стоящих элементов квадратной матрицы.\"\"\"\n",
    "    return add_row(data) + add_row(data.T)\n",
    "\n",
    "\n",
    "n = int(input(\"Enter integer (>2): \"))\n",
    "\n",
    "obj = matrix(n)\n",
    "\n",
    "print(add_neib(obj))"
   ]
  },
  {
   "cell_type": "code",
   "execution_count": null,
   "id": "7658386f",
   "metadata": {},
   "outputs": [],
   "source": []
  },
  {
   "cell_type": "code",
   "execution_count": null,
   "id": "098b3cac",
   "metadata": {},
   "outputs": [],
   "source": []
  }
 ],
 "metadata": {
  "kernelspec": {
   "display_name": "Python 3 (ipykernel)",
   "language": "python",
   "name": "python3"
  },
  "language_info": {
   "codemirror_mode": {
    "name": "ipython",
    "version": 3
   },
   "file_extension": ".py",
   "mimetype": "text/x-python",
   "name": "python",
   "nbconvert_exporter": "python",
   "pygments_lexer": "ipython3",
   "version": "3.9.7"
  }
 },
 "nbformat": 4,
 "nbformat_minor": 5
}
