{
 "cells": [
  {
   "cell_type": "code",
   "execution_count": 3,
   "id": "b68be375",
   "metadata": {},
   "outputs": [
    {
     "name": "stdout",
     "output_type": "stream",
     "text": [
      "rock\n",
      "paper\n",
      "scissors\n",
      "Choose a weapon: rock\n",
      "Win\n",
      "computer choose scissors\n"
     ]
    }
   ],
   "source": [
    "from random import randint\n",
    "weapons = ['rock', 'paper', 'scissors']\n",
    "i = 0\n",
    "for weapon in weapons:\n",
    "    print(weapons[i])\n",
    "    i += 1\n",
    "\n",
    "def game():\n",
    "    us = input(\"Choose a weapon: \")\n",
    "    pc = weapons[randint(0,2)]\n",
    "    \n",
    "    if us not in weapons:\n",
    "        print(\"Try one more\")\n",
    "        game()\n",
    "    elif us == pc:\n",
    "        game()\n",
    "    elif us == 'rock' and pc == 'paper':\n",
    "        print(\"Game over\")\n",
    "    elif us == 'rock' and pc == 'scissors':\n",
    "        print(\"Win\")\n",
    "    elif us == 'paper' and pc == 'rock':\n",
    "        print(\"Win\")\n",
    "    elif us == 'paper' and pc == 'scissors':\n",
    "        print(\"Game over\")\n",
    "    elif us == 'scissors' and pc == 'rock':\n",
    "        print(\"Game over\")\n",
    "    elif us == 'scissors' and pc == 'paper':\n",
    "        print(\"Win\")\n",
    "\n",
    "    print(f\"computer choose {pc}\")\n",
    "\n",
    "game()"
   ]
  },
  {
   "cell_type": "code",
   "execution_count": null,
   "id": "afd05d97",
   "metadata": {},
   "outputs": [],
   "source": []
  }
 ],
 "metadata": {
  "kernelspec": {
   "display_name": "Python 3 (ipykernel)",
   "language": "python",
   "name": "python3"
  },
  "language_info": {
   "codemirror_mode": {
    "name": "ipython",
    "version": 3
   },
   "file_extension": ".py",
   "mimetype": "text/x-python",
   "name": "python",
   "nbconvert_exporter": "python",
   "pygments_lexer": "ipython3",
   "version": "3.9.7"
  }
 },
 "nbformat": 4,
 "nbformat_minor": 5
}
