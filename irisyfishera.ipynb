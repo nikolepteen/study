{
 "cells": [
  {
   "cell_type": "code",
   "execution_count": null,
   "id": "762a9deb",
   "metadata": {},
   "outputs": [],
   "source": [
    "results = []\n",
    "\n",
    "for I in range(1, 100):\n",
    "\n",
    "    import numpy as np\n",
    "    import pandas as pd\n",
    "    import matplotlib.pyplot as plt\n",
    "    from sklearn.datasets import load_iris\n",
    "    iris_dataset = load_iris()\n",
    "\n",
    "    #train_test_split разбивает данные на две части в соотношении 1/4\n",
    "    from sklearn.model_selection import train_test_split\n",
    "    X_train, X_test, y_train, y_test = train_test_split(iris_dataset['data'],iris_dataset['target'], random_state=0)\n",
    "\n",
    "    iris_dataframe=pd.DataFrame(X_train, columns = iris_dataset.feature_names)\n",
    "\n",
    "\n",
    "\n",
    "        \n",
    "    #импорт функции классификатора к-ближайших соседей\n",
    "    from sklearn.neighbors import KNeighborsClassifier\n",
    "    knn = KNeighborsClassifier(n_neighbors=I)\n",
    "\n",
    "    #обучение модели\n",
    "    knn.fit(X_train, y_train)\n",
    "\n",
    "    X_new = np.array([[3,5,1,0.5]])\n",
    "\n",
    "    #прогноз модели\n",
    "    prediction = knn.predict(X_new)\n",
    "\n",
    "\n",
    "    #прогноз модели\n",
    "    y_pred=knn.predict(X_test)\n",
    "\n",
    "\n",
    "    #расчет accuracy \"вручную\"\n",
    "    a = 0\n",
    "    for i in range(len(y_pred)):\n",
    "        if y_pred[i]==y_test[i]:\n",
    "            a+=1\n",
    "\n",
    "\n",
    "    #расчет accuracy \"с помощью метода knn.score\"\n",
    "\n",
    "\n",
    "    #расчет параметров precision, recall, F1-score\n",
    "    from sklearn.metrics import precision_recall_fscore_support\n",
    "\n",
    "    results.append((a/len(y_pred)*100, precision_recall_fscore_support(y_test, y_pred, average='macro')))\n",
    "\n",
    "for item in results:\n",
    "    print(item)"
   ]
  }
 ],
 "metadata": {
  "kernelspec": {
   "display_name": "Python 3 (ipykernel)",
   "language": "python",
   "name": "python3"
  },
  "language_info": {
   "codemirror_mode": {
    "name": "ipython",
    "version": 3
   },
   "file_extension": ".py",
   "mimetype": "text/x-python",
   "name": "python",
   "nbconvert_exporter": "python",
   "pygments_lexer": "ipython3",
   "version": "3.9.7"
  }
 },
 "nbformat": 4,
 "nbformat_minor": 5
}
